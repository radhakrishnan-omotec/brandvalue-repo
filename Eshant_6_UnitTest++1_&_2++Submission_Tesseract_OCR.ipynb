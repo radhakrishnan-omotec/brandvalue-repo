{
  "nbformat": 4,
  "nbformat_minor": 0,
  "metadata": {
    "colab": {
      "provenance": []
    },
    "kernelspec": {
      "name": "python3",
      "display_name": "Python 3"
    },
    "language_info": {
      "name": "python"
    }
  },
  "cells": [
    {
      "cell_type": "markdown",
      "source": [
        "---"
      ],
      "metadata": {
        "id": "U-nCKLFiPPFm"
      }
    },
    {
      "cell_type": "markdown",
      "source": [
        "# Research Project  : Market Differentiation Strategies in the Perfume Industry: Economic Implications of Brand Value\n",
        "\n",
        "## **ESHANT SAWANT**\n",
        "\n",
        "- Brand Value on Perfumes Python Implementation\n"
      ],
      "metadata": {
        "id": "8OiW3u7TJq6Y"
      }
    },
    {
      "cell_type": "markdown",
      "source": [
        "---"
      ],
      "metadata": {
        "id": "ZJazVuoRPRjr"
      }
    },
    {
      "cell_type": "markdown",
      "source": [
        "#**Market Differentiation Strategies in the Perfume Industry: Economic Implications of Brand Value**"
      ],
      "metadata": {
        "id": "Vfb7x9GRNpsS"
      }
    },
    {
      "cell_type": "markdown",
      "source": [
        "### SYNOPSIS:\n",
        "The economics perspective on this research provides a comprehensive understanding of the factors influencing brand value in the perfume industry. By analyzing the difference between ingredient costs and retail prices, we gain insights into consumer surplus, market dynamics, price elasticity, brand equity, cost structures, and consumer behavior.\n",
        "This knowledge is crucial for firms looking to optimize their pricing strategies, enhance brand loyalty, and maintain competitive advantage in the luxury market.\n"
      ],
      "metadata": {
        "id": "EtGETQpgJ1bB"
      }
    },
    {
      "cell_type": "markdown",
      "source": [
        "### **Theoretical Methodology for this Economics Research**"
      ],
      "metadata": {
        "id": "5V-jogQfNytn"
      }
    },
    {
      "cell_type": "markdown",
      "source": [
        "### OBJECTIVE:\n",
        "To analyze the brand value of perfumes by comparing the cumulative cost of their ingredients with the retail price, using an economics perspective. This methodology provides a structured approach to analyze the economic aspect of brand value in the perfume industry. By systematically capturing and comparing ingredient costs with retail prices, researchers can gain insights into the perceived value and pricing strategies of luxury goods.\n"
      ],
      "metadata": {
        "id": "c_vyFnNGN6HN"
      }
    },
    {
      "cell_type": "markdown",
      "source": [
        "# **STEP 1: OCR Scanning of Perfume Bottle**"
      ],
      "metadata": {
        "id": "vs8aEWpUJLf5"
      }
    },
    {
      "cell_type": "markdown",
      "source": [
        "### OCR Scanning of Perfume Bottle\n",
        "1.\tObjective: Capture the list of ingredients from the perfume bottle label.\n",
        "2.\tTool: Use Pytesseract for Optical Character Recognition (OCR).\n",
        "3.\tProcedure:\n",
        "o\tCapture a high-resolution image of the perfume bottle label.\n",
        "o\tUse Pytesseract to process the image and extract text.\n",
        "o\tParse the extracted text to identify and list the ingredients.\n"
      ],
      "metadata": {
        "id": "OaVNQoi7OIy6"
      }
    },
    {
      "cell_type": "markdown",
      "source": [
        "# **STEP 2: Compare Ingredients with CSV Table**"
      ],
      "metadata": {
        "id": "0wyjkp_2OFg7"
      }
    },
    {
      "cell_type": "markdown",
      "source": [
        "### Compare Ingredients with CSV Table\n",
        "1.\tObjective: Match each ingredient from the OCR scan with a pre-defined cost table.\n",
        "2.\tTool: CSV file containing ingredient names and their respective costs.\n",
        "3.\tProcedure:\n",
        "o\tLoad the CSV file into a pandas DataFrame.\n",
        "o\tCreate a list of ingredients from the OCR results.\n",
        "o\tIterate through the list and match each ingredient with the corresponding cost in the CSV table."
      ],
      "metadata": {
        "id": "fZ3kvlBXPJEa"
      }
    },
    {
      "cell_type": "markdown",
      "source": [
        "# **STEP 3: Calculate Cumulative Cost**"
      ],
      "metadata": {
        "id": "Ar6eqiA9OGZ6"
      }
    },
    {
      "cell_type": "markdown",
      "source": [
        "### Calculate Cumulative Cost\n",
        "1.\tObjective: Determine the total cost of the ingredients listed on the perfume bottle.\n",
        "2.\tTool: Python for computation.\n",
        "3.\tProcedure:\n",
        "o\tSum the costs of all matched ingredients to get the cumulative cost.\n"
      ],
      "metadata": {
        "id": "bwogu8IzPFgj"
      }
    },
    {
      "cell_type": "markdown",
      "source": [
        "# **STEP 4: Compare Costs**"
      ],
      "metadata": {
        "id": "ofPr6TiPOHNj"
      }
    },
    {
      "cell_type": "markdown",
      "source": [
        "### Compare Costs\n",
        "1.\tObjective: Analyze the difference between the cumulative cost of ingredients and the retail price of the perfume.\n",
        "2.\tTool: Python for computation and analysis.\n",
        "3.\tProcedure:\n",
        "o\tRetrieve the retail price of the perfume.\n",
        "o\tCalculate the difference between the retail price and the cumulative ingredient cost.\n"
      ],
      "metadata": {
        "id": "7QlZHBwoPD6q"
      }
    },
    {
      "cell_type": "markdown",
      "source": [
        "# **STEP 5: Graphical Representation**"
      ],
      "metadata": {
        "id": "e75FdSGjOces"
      }
    },
    {
      "cell_type": "markdown",
      "source": [
        "### Graphical Representation\n",
        "1.\tObjective: Visually represent the cost difference.\n",
        "2.\tTool: Matplotlib or Seaborn for plotting.\n",
        "3.\tProcedure:\n",
        "o\tPlot a bar graph or pie chart showing the cumulative cost of ingredients vs. the retail price.\n",
        "o\tHighlight the difference as brand value.\n"
      ],
      "metadata": {
        "id": "04Fyhe2iO-O6"
      }
    },
    {
      "cell_type": "markdown",
      "source": [
        "# **STEP 6: Generate Observations**"
      ],
      "metadata": {
        "id": "ydTl7Zx-Od-o"
      }
    },
    {
      "cell_type": "markdown",
      "source": [
        "### Generate Observations\n",
        "1.\tObjective: Provide insights on the brand value from an economic perspective.\n",
        "2.\tTool: Qualitative analysis based on graphical data.\n",
        "3.\tProcedure:\n",
        "o\tAnalyze the graphical representation to derive observations on the brand value.\n",
        "o\tConsider factors such as marketing, packaging, brand reputation, and market positioning.\n",
        "o\tDiscuss the economic implications of the cost difference, including perceived value, consumer behavior, and brand strategy.\n"
      ],
      "metadata": {
        "id": "_4YXPkZcO6Zs"
      }
    },
    {
      "cell_type": "markdown",
      "source": [
        "# **STEP 7: Brand Value Specific Observations**"
      ],
      "metadata": {
        "id": "x4YEBm1_OfvZ"
      }
    },
    {
      "cell_type": "markdown",
      "source": [
        "### Brand Value Insights:\n",
        "o\tThe difference between the retail price and the cumulative ingredient cost represents the brand value.\n",
        "o\tHigher brand value might indicate strong marketing, premium packaging, or a well-established brand reputation.\n",
        "o\tThis value can also reflect the brand's positioning in the market as a luxury item.\n",
        "### Economic Implications:\n",
        "o\tUnderstanding the brand value helps in pricing strategy and market segmentation.\n",
        "o\tIt can also provide insights into consumer behavior and preferences.\n",
        "o\tCompanies can use this analysis to justify their pricing or to reassess their cost structure.\n"
      ],
      "metadata": {
        "id": "MDHmlTvFOwGo"
      }
    },
    {
      "cell_type": "markdown",
      "source": [
        "---"
      ],
      "metadata": {
        "id": "5LbncseYOz9j"
      }
    },
    {
      "cell_type": "markdown",
      "source": [
        "# **STEP 1: OCR Scanning of Perfume Bottle**"
      ],
      "metadata": {
        "id": "SLAhIBDRP11t"
      }
    },
    {
      "cell_type": "markdown",
      "source": [
        "#### **PYTHON IMPLEMENTATION STEPS:**"
      ],
      "metadata": {
        "id": "pcqI6oQZQBgn"
      }
    },
    {
      "cell_type": "markdown",
      "source": [
        "# Phase 1 :\n",
        "####Step 1: Data Collection\n",
        "Gather a collection of images or PDFs containing nutrition information. These documents should be in a format that can be processed by Pytesseract OCR.\n",
        "####Step 2: Image Preprocessing\n",
        "Preprocess the images, if needed, to improve OCR accuracy. This may involve resizing, noise reduction, or contrast adjustments.\n",
        "####Step 3: OCR Processing\n",
        "Utilize Pytesseract OCR to extract text from the images or PDFs. This step will convert the nutrition information into machine-readable text.\n",
        "\n",
        "\n",
        "\n",
        "# Phase 2 :\n",
        "####Step 4: Text Parsing\n",
        "Parse the OCR output to extract relevant information, such as ingredient details, etc.\n",
        "####Step 5: Data Cleaning\n",
        "Clean the extracted data by removing any irrelevant or noisy information. Ensure consistency in data format.\n",
        "####Step 6: Natural Language Processing (NLTK)\n",
        "Implement NLTK to perform text analysis and processing tasks, such as tokenization, part-of-speech tagging, and named entity recognition.\n",
        "####Step 7: Ingredient Extraction\n",
        "Use NLTK to identify and extract ingredient details from the cleaned text. This may involve defining patterns or rules for recognizing ingredients.\n"
      ],
      "metadata": {
        "id": "8332rBNnQNP6"
      }
    },
    {
      "cell_type": "markdown",
      "source": [
        "### Inputs :\n",
        "1) The input consists of a set of perfume ingredients (refer to the picture below) and their respective levels in a product, which are captured in a file (e.g., CSV). These attributes and their levels are obtained through standard OCR steps (scanning, masking, NLTK) from the product's label.\n"
      ],
      "metadata": {
        "id": "qoL1xEL1Ptvw"
      }
    },
    {
      "cell_type": "code",
      "source": [
        "!git clone https://github.com/radhakrishnan-omotec/brandvalue-repo.git"
      ],
      "metadata": {
        "id": "U2CJt9saIscI",
        "colab": {
          "base_uri": "https://localhost:8080/"
        },
        "outputId": "c17d2697-ef66-4426-eaa6-dedc4f958bd6"
      },
      "execution_count": null,
      "outputs": [
        {
          "output_type": "stream",
          "name": "stdout",
          "text": [
            "Cloning into 'brandvalue-repo'...\n",
            "remote: Enumerating objects: 34, done.\u001b[K\n",
            "remote: Counting objects: 100% (34/34), done.\u001b[K\n",
            "remote: Compressing objects: 100% (33/33), done.\u001b[K\n",
            "remote: Total 34 (delta 13), reused 0 (delta 0), pack-reused 0\u001b[K\n",
            "Receiving objects: 100% (34/34), 5.48 MiB | 3.52 MiB/s, done.\n",
            "Resolving deltas: 100% (13/13), done.\n"
          ]
        }
      ]
    },
    {
      "cell_type": "markdown",
      "source": [
        "---"
      ],
      "metadata": {
        "id": "bQIRKje-P5qi"
      }
    },
    {
      "cell_type": "markdown",
      "source": [
        "# **PART A - OCR using Tesseract**"
      ],
      "metadata": {
        "id": "HMFIL8eDI6IS"
      }
    },
    {
      "cell_type": "code",
      "source": [
        "!sudo apt install tesseract-ocr"
      ],
      "metadata": {
        "id": "YRJJOcKrIuyF",
        "colab": {
          "base_uri": "https://localhost:8080/"
        },
        "outputId": "8d4db1b1-3d6c-45dc-b74e-e521873f9235"
      },
      "execution_count": null,
      "outputs": [
        {
          "output_type": "stream",
          "name": "stdout",
          "text": [
            "Reading package lists... Done\n",
            "Building dependency tree... Done\n",
            "Reading state information... Done\n",
            "The following additional packages will be installed:\n",
            "  tesseract-ocr-eng tesseract-ocr-osd\n",
            "The following NEW packages will be installed:\n",
            "  tesseract-ocr tesseract-ocr-eng tesseract-ocr-osd\n",
            "0 upgraded, 3 newly installed, 0 to remove and 45 not upgraded.\n",
            "Need to get 4,816 kB of archives.\n",
            "After this operation, 15.6 MB of additional disk space will be used.\n",
            "Get:1 http://archive.ubuntu.com/ubuntu jammy/universe amd64 tesseract-ocr-eng all 1:4.00~git30-7274cfa-1.1 [1,591 kB]\n",
            "Get:2 http://archive.ubuntu.com/ubuntu jammy/universe amd64 tesseract-ocr-osd all 1:4.00~git30-7274cfa-1.1 [2,990 kB]\n",
            "Get:3 http://archive.ubuntu.com/ubuntu jammy/universe amd64 tesseract-ocr amd64 4.1.1-2.1build1 [236 kB]\n",
            "Fetched 4,816 kB in 3s (1,573 kB/s)\n",
            "debconf: unable to initialize frontend: Dialog\n",
            "debconf: (No usable dialog-like program is installed, so the dialog based frontend cannot be used. at /usr/share/perl5/Debconf/FrontEnd/Dialog.pm line 78, <> line 3.)\n",
            "debconf: falling back to frontend: Readline\n",
            "debconf: unable to initialize frontend: Readline\n",
            "debconf: (This frontend requires a controlling tty.)\n",
            "debconf: falling back to frontend: Teletype\n",
            "dpkg-preconfigure: unable to re-open stdin: \n",
            "Selecting previously unselected package tesseract-ocr-eng.\n",
            "(Reading database ... 121925 files and directories currently installed.)\n",
            "Preparing to unpack .../tesseract-ocr-eng_1%3a4.00~git30-7274cfa-1.1_all.deb ...\n",
            "Unpacking tesseract-ocr-eng (1:4.00~git30-7274cfa-1.1) ...\n",
            "Selecting previously unselected package tesseract-ocr-osd.\n",
            "Preparing to unpack .../tesseract-ocr-osd_1%3a4.00~git30-7274cfa-1.1_all.deb ...\n",
            "Unpacking tesseract-ocr-osd (1:4.00~git30-7274cfa-1.1) ...\n",
            "Selecting previously unselected package tesseract-ocr.\n",
            "Preparing to unpack .../tesseract-ocr_4.1.1-2.1build1_amd64.deb ...\n",
            "Unpacking tesseract-ocr (4.1.1-2.1build1) ...\n",
            "Setting up tesseract-ocr-eng (1:4.00~git30-7274cfa-1.1) ...\n",
            "Setting up tesseract-ocr-osd (1:4.00~git30-7274cfa-1.1) ...\n",
            "Setting up tesseract-ocr (4.1.1-2.1build1) ...\n",
            "Processing triggers for man-db (2.10.2-1) ...\n"
          ]
        }
      ]
    },
    {
      "cell_type": "code",
      "source": [
        "!pip install pytesseract"
      ],
      "metadata": {
        "id": "FBS3W2weIxSJ",
        "colab": {
          "base_uri": "https://localhost:8080/"
        },
        "outputId": "a4a41bc5-29f0-4f3a-e50f-d9456e57f30c"
      },
      "execution_count": null,
      "outputs": [
        {
          "output_type": "stream",
          "name": "stdout",
          "text": [
            "Collecting pytesseract\n",
            "  Downloading pytesseract-0.3.10-py3-none-any.whl (14 kB)\n",
            "Requirement already satisfied: packaging>=21.3 in /usr/local/lib/python3.10/dist-packages (from pytesseract) (24.1)\n",
            "Requirement already satisfied: Pillow>=8.0.0 in /usr/local/lib/python3.10/dist-packages (from pytesseract) (9.4.0)\n",
            "Installing collected packages: pytesseract\n",
            "Successfully installed pytesseract-0.3.10\n"
          ]
        }
      ]
    },
    {
      "cell_type": "code",
      "source": [
        "import pytesseract\n",
        "import cv2\n",
        "import shutil\n",
        "import os\n",
        "import random\n",
        "try:\n",
        "    from PIL import Image\n",
        "except ImportError:\n",
        "    import Image"
      ],
      "metadata": {
        "id": "tHTZYC6EI1sg"
      },
      "execution_count": null,
      "outputs": []
    },
    {
      "cell_type": "markdown",
      "source": [
        "#Phase 1:"
      ],
      "metadata": {
        "id": "hzxU5AXi0pV8"
      }
    },
    {
      "cell_type": "markdown",
      "source": [
        "# **Step 1: Data Collection**\n",
        "\n",
        "***Gather a collection of images containing nutrition information. These documents should be in a format that can be processed by Pytesseract OCR.***"
      ],
      "metadata": {
        "id": "Di99xqoEcsWf"
      }
    },
    {
      "cell_type": "markdown",
      "source": [
        "## PERFUME BRANDS INPUT INGREDIENTS"
      ],
      "metadata": {
        "id": "Nhw_0HYSZRas"
      }
    },
    {
      "cell_type": "markdown",
      "source": [
        "### Import OCR Image using Google Colab"
      ],
      "metadata": {
        "id": "ArgUFykII70Q"
      }
    },
    {
      "cell_type": "code",
      "source": [
        "from google.colab import files\n",
        "\n",
        "uploaded = files.upload()"
      ],
      "metadata": {
        "id": "gR10XVJuI21C",
        "colab": {
          "base_uri": "https://localhost:8080/",
          "height": 342
        },
        "outputId": "c408ce80-5ccd-4f0c-b375-3c6d6645be34"
      },
      "execution_count": null,
      "outputs": [
        {
          "data": {
            "text/html": [
              "\n",
              "     <input type=\"file\" id=\"files-bcde4185-b41a-4fe7-bdc5-9ee0536c419b\" name=\"files[]\" multiple disabled\n",
              "        style=\"border:none\" />\n",
              "     <output id=\"result-bcde4185-b41a-4fe7-bdc5-9ee0536c419b\">\n",
              "      Upload widget is only available when the cell has been executed in the\n",
              "      current browser session. Please rerun this cell to enable.\n",
              "      </output>\n",
              "      <script>// Copyright 2017 Google LLC\n",
              "//\n",
              "// Licensed under the Apache License, Version 2.0 (the \"License\");\n",
              "// you may not use this file except in compliance with the License.\n",
              "// You may obtain a copy of the License at\n",
              "//\n",
              "//      http://www.apache.org/licenses/LICENSE-2.0\n",
              "//\n",
              "// Unless required by applicable law or agreed to in writing, software\n",
              "// distributed under the License is distributed on an \"AS IS\" BASIS,\n",
              "// WITHOUT WARRANTIES OR CONDITIONS OF ANY KIND, either express or implied.\n",
              "// See the License for the specific language governing permissions and\n",
              "// limitations under the License.\n",
              "\n",
              "/**\n",
              " * @fileoverview Helpers for google.colab Python module.\n",
              " */\n",
              "(function(scope) {\n",
              "function span(text, styleAttributes = {}) {\n",
              "  const element = document.createElement('span');\n",
              "  element.textContent = text;\n",
              "  for (const key of Object.keys(styleAttributes)) {\n",
              "    element.style[key] = styleAttributes[key];\n",
              "  }\n",
              "  return element;\n",
              "}\n",
              "\n",
              "// Max number of bytes which will be uploaded at a time.\n",
              "const MAX_PAYLOAD_SIZE = 100 * 1024;\n",
              "\n",
              "function _uploadFiles(inputId, outputId) {\n",
              "  const steps = uploadFilesStep(inputId, outputId);\n",
              "  const outputElement = document.getElementById(outputId);\n",
              "  // Cache steps on the outputElement to make it available for the next call\n",
              "  // to uploadFilesContinue from Python.\n",
              "  outputElement.steps = steps;\n",
              "\n",
              "  return _uploadFilesContinue(outputId);\n",
              "}\n",
              "\n",
              "// This is roughly an async generator (not supported in the browser yet),\n",
              "// where there are multiple asynchronous steps and the Python side is going\n",
              "// to poll for completion of each step.\n",
              "// This uses a Promise to block the python side on completion of each step,\n",
              "// then passes the result of the previous step as the input to the next step.\n",
              "function _uploadFilesContinue(outputId) {\n",
              "  const outputElement = document.getElementById(outputId);\n",
              "  const steps = outputElement.steps;\n",
              "\n",
              "  const next = steps.next(outputElement.lastPromiseValue);\n",
              "  return Promise.resolve(next.value.promise).then((value) => {\n",
              "    // Cache the last promise value to make it available to the next\n",
              "    // step of the generator.\n",
              "    outputElement.lastPromiseValue = value;\n",
              "    return next.value.response;\n",
              "  });\n",
              "}\n",
              "\n",
              "/**\n",
              " * Generator function which is called between each async step of the upload\n",
              " * process.\n",
              " * @param {string} inputId Element ID of the input file picker element.\n",
              " * @param {string} outputId Element ID of the output display.\n",
              " * @return {!Iterable<!Object>} Iterable of next steps.\n",
              " */\n",
              "function* uploadFilesStep(inputId, outputId) {\n",
              "  const inputElement = document.getElementById(inputId);\n",
              "  inputElement.disabled = false;\n",
              "\n",
              "  const outputElement = document.getElementById(outputId);\n",
              "  outputElement.innerHTML = '';\n",
              "\n",
              "  const pickedPromise = new Promise((resolve) => {\n",
              "    inputElement.addEventListener('change', (e) => {\n",
              "      resolve(e.target.files);\n",
              "    });\n",
              "  });\n",
              "\n",
              "  const cancel = document.createElement('button');\n",
              "  inputElement.parentElement.appendChild(cancel);\n",
              "  cancel.textContent = 'Cancel upload';\n",
              "  const cancelPromise = new Promise((resolve) => {\n",
              "    cancel.onclick = () => {\n",
              "      resolve(null);\n",
              "    };\n",
              "  });\n",
              "\n",
              "  // Wait for the user to pick the files.\n",
              "  const files = yield {\n",
              "    promise: Promise.race([pickedPromise, cancelPromise]),\n",
              "    response: {\n",
              "      action: 'starting',\n",
              "    }\n",
              "  };\n",
              "\n",
              "  cancel.remove();\n",
              "\n",
              "  // Disable the input element since further picks are not allowed.\n",
              "  inputElement.disabled = true;\n",
              "\n",
              "  if (!files) {\n",
              "    return {\n",
              "      response: {\n",
              "        action: 'complete',\n",
              "      }\n",
              "    };\n",
              "  }\n",
              "\n",
              "  for (const file of files) {\n",
              "    const li = document.createElement('li');\n",
              "    li.append(span(file.name, {fontWeight: 'bold'}));\n",
              "    li.append(span(\n",
              "        `(${file.type || 'n/a'}) - ${file.size} bytes, ` +\n",
              "        `last modified: ${\n",
              "            file.lastModifiedDate ? file.lastModifiedDate.toLocaleDateString() :\n",
              "                                    'n/a'} - `));\n",
              "    const percent = span('0% done');\n",
              "    li.appendChild(percent);\n",
              "\n",
              "    outputElement.appendChild(li);\n",
              "\n",
              "    const fileDataPromise = new Promise((resolve) => {\n",
              "      const reader = new FileReader();\n",
              "      reader.onload = (e) => {\n",
              "        resolve(e.target.result);\n",
              "      };\n",
              "      reader.readAsArrayBuffer(file);\n",
              "    });\n",
              "    // Wait for the data to be ready.\n",
              "    let fileData = yield {\n",
              "      promise: fileDataPromise,\n",
              "      response: {\n",
              "        action: 'continue',\n",
              "      }\n",
              "    };\n",
              "\n",
              "    // Use a chunked sending to avoid message size limits. See b/62115660.\n",
              "    let position = 0;\n",
              "    do {\n",
              "      const length = Math.min(fileData.byteLength - position, MAX_PAYLOAD_SIZE);\n",
              "      const chunk = new Uint8Array(fileData, position, length);\n",
              "      position += length;\n",
              "\n",
              "      const base64 = btoa(String.fromCharCode.apply(null, chunk));\n",
              "      yield {\n",
              "        response: {\n",
              "          action: 'append',\n",
              "          file: file.name,\n",
              "          data: base64,\n",
              "        },\n",
              "      };\n",
              "\n",
              "      let percentDone = fileData.byteLength === 0 ?\n",
              "          100 :\n",
              "          Math.round((position / fileData.byteLength) * 100);\n",
              "      percent.textContent = `${percentDone}% done`;\n",
              "\n",
              "    } while (position < fileData.byteLength);\n",
              "  }\n",
              "\n",
              "  // All done.\n",
              "  yield {\n",
              "    response: {\n",
              "      action: 'complete',\n",
              "    }\n",
              "  };\n",
              "}\n",
              "\n",
              "scope.google = scope.google || {};\n",
              "scope.google.colab = scope.google.colab || {};\n",
              "scope.google.colab._files = {\n",
              "  _uploadFiles,\n",
              "  _uploadFilesContinue,\n",
              "};\n",
              "})(self);\n",
              "</script> "
            ],
            "text/plain": [
              "<IPython.core.display.HTML object>"
            ]
          },
          "metadata": {},
          "output_type": "display_data"
        },
        {
          "ename": "TypeError",
          "evalue": "'NoneType' object is not subscriptable",
          "output_type": "error",
          "traceback": [
            "\u001b[0;31m---------------------------------------------------------------------------\u001b[0m",
            "\u001b[0;31mTypeError\u001b[0m                                 Traceback (most recent call last)",
            "\u001b[0;32m<ipython-input-5-72edf3658aa1>\u001b[0m in \u001b[0;36m<cell line: 3>\u001b[0;34m()\u001b[0m\n\u001b[1;32m      1\u001b[0m \u001b[0;32mfrom\u001b[0m \u001b[0mgoogle\u001b[0m\u001b[0;34m.\u001b[0m\u001b[0mcolab\u001b[0m \u001b[0;32mimport\u001b[0m \u001b[0mfiles\u001b[0m\u001b[0;34m\u001b[0m\u001b[0;34m\u001b[0m\u001b[0m\n\u001b[1;32m      2\u001b[0m \u001b[0;34m\u001b[0m\u001b[0m\n\u001b[0;32m----> 3\u001b[0;31m \u001b[0muploaded\u001b[0m \u001b[0;34m=\u001b[0m \u001b[0mfiles\u001b[0m\u001b[0;34m.\u001b[0m\u001b[0mupload\u001b[0m\u001b[0;34m(\u001b[0m\u001b[0;34m)\u001b[0m\u001b[0;34m\u001b[0m\u001b[0;34m\u001b[0m\u001b[0m\n\u001b[0m",
            "\u001b[0;32m/usr/local/lib/python3.10/dist-packages/google/colab/files.py\u001b[0m in \u001b[0;36mupload\u001b[0;34m()\u001b[0m\n\u001b[1;32m     67\u001b[0m   \"\"\"\n\u001b[1;32m     68\u001b[0m \u001b[0;34m\u001b[0m\u001b[0m\n\u001b[0;32m---> 69\u001b[0;31m   \u001b[0muploaded_files\u001b[0m \u001b[0;34m=\u001b[0m \u001b[0m_upload_files\u001b[0m\u001b[0;34m(\u001b[0m\u001b[0mmultiple\u001b[0m\u001b[0;34m=\u001b[0m\u001b[0;32mTrue\u001b[0m\u001b[0;34m)\u001b[0m\u001b[0;34m\u001b[0m\u001b[0;34m\u001b[0m\u001b[0m\n\u001b[0m\u001b[1;32m     70\u001b[0m   \u001b[0;31m# Mapping from original filename to filename as saved locally.\u001b[0m\u001b[0;34m\u001b[0m\u001b[0;34m\u001b[0m\u001b[0m\n\u001b[1;32m     71\u001b[0m   \u001b[0mlocal_filenames\u001b[0m \u001b[0;34m=\u001b[0m \u001b[0mdict\u001b[0m\u001b[0;34m(\u001b[0m\u001b[0;34m)\u001b[0m\u001b[0;34m\u001b[0m\u001b[0;34m\u001b[0m\u001b[0m\n",
            "\u001b[0;32m/usr/local/lib/python3.10/dist-packages/google/colab/files.py\u001b[0m in \u001b[0;36m_upload_files\u001b[0;34m(multiple)\u001b[0m\n\u001b[1;32m    161\u001b[0m   \u001b[0mfiles\u001b[0m \u001b[0;34m=\u001b[0m \u001b[0m_collections\u001b[0m\u001b[0;34m.\u001b[0m\u001b[0mdefaultdict\u001b[0m\u001b[0;34m(\u001b[0m\u001b[0mbytes\u001b[0m\u001b[0;34m)\u001b[0m\u001b[0;34m\u001b[0m\u001b[0;34m\u001b[0m\u001b[0m\n\u001b[1;32m    162\u001b[0m \u001b[0;34m\u001b[0m\u001b[0m\n\u001b[0;32m--> 163\u001b[0;31m   \u001b[0;32mwhile\u001b[0m \u001b[0mresult\u001b[0m\u001b[0;34m[\u001b[0m\u001b[0;34m'action'\u001b[0m\u001b[0;34m]\u001b[0m \u001b[0;34m!=\u001b[0m \u001b[0;34m'complete'\u001b[0m\u001b[0;34m:\u001b[0m\u001b[0;34m\u001b[0m\u001b[0;34m\u001b[0m\u001b[0m\n\u001b[0m\u001b[1;32m    164\u001b[0m     result = _output.eval_js(\n\u001b[1;32m    165\u001b[0m         'google.colab._files._uploadFilesContinue(\"{output_id}\")'.format(\n",
            "\u001b[0;31mTypeError\u001b[0m: 'NoneType' object is not subscriptable"
          ]
        }
      ]
    },
    {
      "cell_type": "markdown",
      "source": [
        "### Load OCR Image for Tesseract"
      ],
      "metadata": {
        "id": "4AxY4uZpJF2H"
      }
    },
    {
      "cell_type": "code",
      "source": [
        "#from google.colab.patches import cv2_imshow\n",
        "\n",
        "img0 = Image.open('/content/brandvalue-repo/Perfume1.png')\n",
        "display(img0)"
      ],
      "metadata": {
        "id": "1qWsfZhKSfs7"
      },
      "execution_count": null,
      "outputs": []
    },
    {
      "cell_type": "code",
      "source": [
        "#from google.colab.patches import cv2_imshow\n",
        "\n",
        "img00 = Image.open('/content/brandvalue-repo/Perfume2.png')\n",
        "display(img00)"
      ],
      "metadata": {
        "id": "TQkeUaOMSqu5"
      },
      "execution_count": null,
      "outputs": []
    },
    {
      "cell_type": "code",
      "source": [
        "#from google.colab.patches import cv2_imshow\n",
        "\n",
        "img000 = Image.open('/content/brandvalue-repo/Perfume3.png')\n",
        "display(img000)"
      ],
      "metadata": {
        "id": "5X68g31FSu14"
      },
      "execution_count": null,
      "outputs": []
    },
    {
      "cell_type": "code",
      "source": [
        "#from google.colab.patches import cv2_imshow\n",
        "\n",
        "img0000 = Image.open('/content/brandvalue-repo/Perfume4.png')\n",
        "display(img0000)"
      ],
      "metadata": {
        "id": "ivaSdoIwTCMi"
      },
      "execution_count": null,
      "outputs": []
    },
    {
      "cell_type": "markdown",
      "source": [
        "**TESTING CODE::**"
      ],
      "metadata": {
        "id": "CywlHbstO1W9"
      }
    },
    {
      "cell_type": "code",
      "source": [
        "#from google.colab.patches import cv2_imshow\n",
        "\n",
        "img1 = Image.open('/content/brandvalue-repo/Perfume5.png')\n",
        "display(img1)"
      ],
      "metadata": {
        "id": "WsF5uyWxJexj"
      },
      "execution_count": null,
      "outputs": []
    },
    {
      "cell_type": "markdown",
      "source": [
        "### Preprocessing of images using OpenCV"
      ],
      "metadata": {
        "id": "VR4cah7xY7b0"
      }
    },
    {
      "cell_type": "markdown",
      "source": [
        "\n",
        "\n",
        "We will write basic functions for different preprocessing methods\n",
        "- grayscaling\n",
        "- thresholding\n",
        "- dilating\n",
        "- eroding\n",
        "- opening\n",
        "- canny edge detection\n",
        "- noise removal\n",
        "- deskwing\n",
        "- template matching.\n",
        "\n",
        "Different methods can come in handy with different kinds of images."
      ],
      "metadata": {
        "id": "qAIHsohdJGui"
      }
    },
    {
      "cell_type": "code",
      "source": [
        "import re\n",
        "import cv2\n",
        "import numpy as np\n",
        "import pytesseract\n",
        "from pytesseract import Output\n",
        "from matplotlib import pyplot as plt"
      ],
      "metadata": {
        "id": "XxUNkZEPZU0W"
      },
      "execution_count": null,
      "outputs": []
    },
    {
      "cell_type": "code",
      "source": [
        "# get grayscale image\n",
        "def get_grayscale(image):\n",
        "    return cv2.cvtColor(image, cv2.COLOR_BGR2GRAY)\n",
        "\n",
        "# noise removal\n",
        "def remove_noise(image):\n",
        "    return cv2.medianBlur(image,5)\n",
        "\n",
        "#thresholding\n",
        "def thresholding(image):\n",
        "    return cv2.threshold(image, 0, 255, cv2.THRESH_BINARY + cv2.THRESH_OTSU)[1]\n",
        "\n",
        "#dilation\n",
        "def dilate(image):\n",
        "    kernel = np.ones((5,5),np.uint8)\n",
        "    return cv2.dilate(image, kernel, iterations = 1)\n",
        "\n",
        "#erosion\n",
        "def erode(image):\n",
        "    kernel = np.ones((5,5),np.uint8)\n",
        "    return cv2.erode(image, kernel, iterations = 1)\n",
        "\n",
        "#opening - erosion followed by dilation\n",
        "def opening(image):\n",
        "    kernel = np.ones((5,5),np.uint8)\n",
        "    return cv2.morphologyEx(image, cv2.MORPH_OPEN, kernel)\n",
        "\n",
        "#canny edge detection\n",
        "def canny(image):\n",
        "    return cv2.Canny(image, 100, 200)\n",
        "\n",
        "#skew correction\n",
        "def deskew(image):\n",
        "    coords = np.column_stack(np.where(image > 0))\n",
        "    angle = cv2.minAreaRect(coords)[-1]\n",
        "    if angle < -45:\n",
        "        angle = -(90 + angle)\n",
        "    else:\n",
        "        angle = -angle\n",
        "    (h, w) = image.shape[:2]\n",
        "    center = (w // 2, h // 2)\n",
        "    M = cv2.getRotationMatrix2D(center, angle, 1.0)\n",
        "    rotated = cv2.warpAffine(image, M, (w, h), flags=cv2.INTER_CUBIC, borderMode=cv2.BORDER_REPLICATE)\n",
        "    return rotated\n",
        "\n",
        "#template matching\n",
        "def match_template(image, template):\n",
        "    return cv2.matchTemplate(image, template, cv2.TM_CCOEFF_NORMED)"
      ],
      "metadata": {
        "id": "Oa4_eyQ5ZdJW"
      },
      "execution_count": null,
      "outputs": []
    },
    {
      "cell_type": "code",
      "source": [
        "# Plot original image\n",
        "\n",
        "image = cv2.imread('/content/brandvalue-repo/Perfume5.png')\n",
        "b,g,r = cv2.split(image)\n",
        "print(\"Blue = \", b)\n",
        "print(\"Green = \", g)\n",
        "print(\"Red = \", r)\n",
        "rgb_img = cv2.merge([r,g,b])\n",
        "plt.imshow(rgb_img)\n",
        "plt.title('NEW ORIGINAL IMAGE')\n",
        "plt.show()"
      ],
      "metadata": {
        "id": "dF_hhBwvZmUa"
      },
      "execution_count": null,
      "outputs": []
    },
    {
      "cell_type": "markdown",
      "source": [
        "### Preprocessing of Image"
      ],
      "metadata": {
        "id": "Zlt3BAafY9Ea"
      }
    },
    {
      "cell_type": "code",
      "source": [
        "# Preprocess image\n",
        "\n",
        "gray = get_grayscale(image)\n",
        "thresh = thresholding(gray)\n",
        "opening = opening(gray)\n",
        "canny = canny(gray)\n",
        "noise_removal = remove_noise(canny)\n",
        "deskew\n",
        "\n",
        "images = {'gray': gray,\n",
        "          'thresh': thresh,\n",
        "          'opening': opening,\n",
        "          'canny': canny}"
      ],
      "metadata": {
        "id": "hjK8tGwXJhbd"
      },
      "execution_count": null,
      "outputs": []
    },
    {
      "cell_type": "markdown",
      "source": [
        "### Plot images after preprocessing"
      ],
      "metadata": {
        "id": "2inAKETeJHfq"
      }
    },
    {
      "cell_type": "code",
      "source": [
        "# Plot images after preprocessing\n",
        "\n",
        "fig = plt.figure(figsize=(13,13))\n",
        "ax = []\n",
        "\n",
        "rows = 2\n",
        "columns = 2\n",
        "keys = list(images.keys())\n",
        "for i in range(rows*columns):\n",
        "    ax.append( fig.add_subplot(rows, columns, i+1) )\n",
        "    ax[-1].set_title('RESULT 1 - ' + keys[i])\n",
        "    plt.imshow(images[keys[i]], cmap='gray')"
      ],
      "metadata": {
        "id": "NgNUCtNfKFF6"
      },
      "execution_count": null,
      "outputs": []
    },
    {
      "cell_type": "markdown",
      "source": [
        "### Page Segmentation Modes"
      ],
      "metadata": {
        "id": "9WhMqYhkZGB_"
      }
    },
    {
      "cell_type": "markdown",
      "source": [
        "\n",
        "\n",
        "There are several ways a page of text can be analysed. The tesseract api provides several page segmentation modes if you want to run OCR on only a small region or in different orientations, etc.\n",
        "\n",
        "Here's a list of the supported page segmentation modes by tesseract -\n",
        "\n",
        "0    Orientation and script detection (OSD) only.  \n",
        "1    Automatic page segmentation with OSD.  \n",
        "2    Automatic page segmentation, but no OSD, or OCR.  \n",
        "3    Fully automatic page segmentation, but no OSD. (Default)  \n",
        "4    Assume a single column of text of variable sizes.  \n",
        "5    Assume a single uniform block of vertically aligned text.  \n",
        "6    Assume a single uniform block of text.  \n",
        "7    Treat the image as a single text line.  \n",
        "8    Treat the image as a single word.  \n",
        "9    Treat the image as a single word in a circle.  \n",
        "10    Treat the image as a single character.  \n",
        "11    Sparse text. Find as much text as possible in no particular order.  \n",
        "12    Sparse text with OSD.  \n",
        "13    Raw line. Treat the image as a single text line, bypassing hacks that are Tesseract-specific.  \n",
        "\n",
        "To change your page segmentation mode, change the ```--psm``` argument in your custom config string to any of the above mentioned mode codes."
      ],
      "metadata": {
        "id": "ztn5FBRYJIeK"
      }
    },
    {
      "cell_type": "code",
      "source": [
        "# Get OCR output using Pytesseract\n",
        "\n",
        "custom_config = r'--oem 3 --psm 6'\n",
        "print('-----------------------------------------')\n",
        "print('TESSERACT OUTPUT --> ORIGINAL IMAGE')\n",
        "print('-----------------------------------------')\n",
        "print(pytesseract.image_to_string(image, config=custom_config))\n",
        "print('\\n-----------------------------------------')\n",
        "print('TESSERACT OUTPUT --> THRESHOLDED IMAGE')\n",
        "print('-----------------------------------------')\n",
        "print(pytesseract.image_to_string(image, config=custom_config))\n",
        "print('\\n-----------------------------------------')\n",
        "print('TESSERACT OUTPUT --> OPENED IMAGE')\n",
        "print('-----------------------------------------')\n",
        "print(pytesseract.image_to_string(image, config=custom_config))\n",
        "print('\\n-----------------------------------------')\n",
        "print('TESSERACT OUTPUT --> CANNY EDGE IMAGE')\n",
        "print('-----------------------------------------')\n",
        "print(pytesseract.image_to_string(image, config=custom_config))\n",
        "\n",
        "###############################\n",
        "multiline_string=pytesseract.image_to_string(image, config=custom_config)\n",
        "print('=========================================')\n",
        "print(\"MULTI LINE STRING OUTPUT \")\n",
        "print('=========================================')\n",
        "print(multiline_string)\n",
        "###############################"
      ],
      "metadata": {
        "id": "bAa0TglAKIAg"
      },
      "execution_count": null,
      "outputs": []
    },
    {
      "cell_type": "markdown",
      "source": [
        "# Step 2: Comparing The Price"
      ],
      "metadata": {
        "id": "k7GN2K0RtY55"
      }
    },
    {
      "cell_type": "markdown",
      "source": [
        "# **Total=21.016**\n",
        "*   ALCOHOL = 21.006\n",
        "*   PARFUM (FRAGRANCE) = 18.016\n",
        "*   AQUA (WATER) = 21.015\n",
        "*   CITRONELLOL = 20.016\n",
        "*   LIMONENE = 2.011\n",
        "*   BUTYL = 19.016\n",
        "*   METHOXYDIBENZOYLMETHANE = 18.016\n",
        "*   ETHYLHEXYL METHOXY-CINNAMATE = 19.516\n",
        "*   ALPHA-ISOMETHYL IONONE LINALOOL = 20.416\n",
        "*   HEXYL CINNAMAL = 20.416\n",
        "*   BENZYL BENZOATE = 20.316\n",
        "*   BHT =  20.416\n",
        "*   HYDROXY-CITRONELLAL = 18.016\n",
        "*   GERANIOL = 20.216\n",
        "*   CINNAMYL ALCOHOL = 19.016\n",
        "*   BENZYL SALICYLATE = 20.616\n",
        "*   CITRAL = 20.216\n",
        "*   FARNESOL = 20.016"
      ],
      "metadata": {
        "id": "gIUU8qZ5tLb3"
      }
    },
    {
      "cell_type": "markdown",
      "source": [
        "## Step 3: Price Difference"
      ],
      "metadata": {
        "id": "IxOV6tsJ5hqR"
      }
    },
    {
      "cell_type": "markdown",
      "source": [
        "Cost of **Calvin Klein** Eternity Aromatic Essence Eau De Parfum = 72.868278\n",
        "\n",
        "**Original** Cost of = 21.016\n",
        "\n",
        "**Brand Value** = 51.852278"
      ],
      "metadata": {
        "id": "oyJogrmztCLr"
      }
    },
    {
      "cell_type": "markdown",
      "source": [
        "# Step 4: Graph"
      ],
      "metadata": {
        "id": "yjdMwF3ItuMH"
      }
    },
    {
      "cell_type": "markdown",
      "source": [
        "**Loading and Preparing Data**"
      ],
      "metadata": {
        "id": "XJOHxB0o0paF"
      }
    },
    {
      "cell_type": "code",
      "source": [
        "import pandas as pd\n",
        "import matplotlib.pyplot as plt\n",
        "\n",
        "# Step 1: Read data from output_perfume_ingredients_cost_rankwise.csv\n",
        "file1_path = 'output_perfume_ingredients_cost_rankwise.csv'\n",
        "df1 = pd.read_csv(file1_path, nrows=18)  # Read first 18 rows\n",
        "\n",
        "# Extract Cost of Brand column and Ingredient column\n",
        "cost_of_brand = df1['Cost of Brand']\n",
        "ingredients = df1['Ingredient']  # Assuming there's an 'Ingredient' column in df1\n",
        "\n",
        "# Step 2: Read data from output_perfume_18_ingredients_cost_rankwise.csv\n",
        "file2_path = 'output_perfume_18_ingredients_cost_rankwise.csv'\n",
        "df2 = pd.read_csv(file2_path)\n",
        "\n",
        "# Extract Cost column\n",
        "cost = df2['Cost']\n",
        "\n",
        "# Step 3: Plotting a comparative bar graph\n",
        "plt.figure(figsize=(12, 8))\n",
        "\n",
        "# Ensure both datasets have the same ingredients in the same order\n",
        "# Use intersection of indexes to align the data properly\n",
        "common_ingredients = df1['Ingredient'].iloc[:len(cost)].values\n",
        "\n",
        "# Find the indices of common ingredients in both datasets\n",
        "idx1 = df1.index[df1['Ingredient'].isin(common_ingredients)]\n",
        "idx2 = df2.index[df2['Ingredient'].isin(common_ingredients)]\n",
        "\n",
        "# Extract the aligned data\n",
        "cost_of_brand_aligned = cost_of_brand.loc[idx1]\n",
        "cost_aligned = cost.loc[idx2]\n",
        "\n",
        "# Bar positions and widths\n",
        "bar_width = 0.35\n",
        "index = range(len(cost_of_brand_aligned))\n",
        "\n",
        "# Plot bars with 'Cost' on the left side\n",
        "plt.bar([i for i in index], cost_aligned, bar_width, label='Cost', color='r', alpha=0.6)\n",
        "plt.bar([i + bar_width for i in index], cost_of_brand_aligned, bar_width, label='Cost of Brand', color='b', alpha=0.6)\n",
        "\n",
        "# Add labels, title, and legend\n",
        "plt.xlabel('Ingredients')\n",
        "plt.ylabel('Cost')\n",
        "plt.title('Comparison of Cost vs Cost of Brand for Perfume Ingredients')\n",
        "plt.xticks([i + bar_width / 2 for i in index], common_ingredients, rotation=45)\n",
        "plt.legend()\n",
        "\n",
        "# Show plot\n",
        "plt.tight_layout()\n",
        "plt.show()\n"
      ],
      "metadata": {
        "id": "5bPGV_YZ0n6q",
        "colab": {
          "base_uri": "https://localhost:8080/",
          "height": 807
        },
        "outputId": "6a01e80c-f6c1-442f-c94e-6e134ecb73b3"
      },
      "execution_count": null,
      "outputs": [
        {
          "output_type": "display_data",
          "data": {
            "text/plain": [
              "<Figure size 1200x800 with 1 Axes>"
            ],
            "image/png": "[encoded data removed]"
          },
          "metadata": {}
        }
      ]
    },
    {
      "cell_type": "markdown",
      "source": [
        "**Creating Pie Chart Plot**"
      ],
      "metadata": {
        "id": "YDcwx5Yq01Xh"
      }
    },
    {
      "cell_type": "code",
      "source": [
        "import pandas as pd\n",
        "import matplotlib.pyplot as plt\n",
        "import matplotlib.cm as cm\n",
        "import numpy as np\n",
        "\n",
        "# Load the CSV data into a DataFrame\n",
        "file_path = 'output_perfume_18_ingredients_cost_rankwise.csv'\n",
        "df = pd.read_csv(file_path)\n",
        "\n",
        "# Extract the 'Cost' column\n",
        "costs = df['Cost']\n",
        "\n",
        "# Calculate total cost\n",
        "total_cost = costs.sum()\n",
        "\n",
        "# Calculate percentages\n",
        "percentages = [(cost / total_cost) * 100 for cost in costs]\n",
        "\n",
        "# Generate colors from light to dark blue\n",
        "num_colors = len(df)\n",
        "colors = cm.Reds(np.linspace(0.2, 0.8, num_colors))\n",
        "\n",
        "# Plotting the pie chart with custom colors\n",
        "plt.figure(figsize=(8, 8))\n",
        "plt.pie(percentages, labels=df.index, autopct='%1.1f%%', startangle=140, colors=colors)\n",
        "plt.title('Cost Distribution in Perfume Ingredients \\n')\n",
        "plt.axis('equal')  # Equal aspect ratio ensures the pie chart is circular\n",
        "plt.show()\n"
      ],
      "metadata": {
        "id": "7Bqt0_X26AWV",
        "colab": {
          "base_uri": "https://localhost:8080/",
          "height": 704
        },
        "outputId": "d3e0994c-ceab-4c3e-bd9d-6122554107cf"
      },
      "execution_count": null,
      "outputs": [
        {
          "output_type": "display_data",
          "data": {
            "text/plain": [
              "<Figure size 800x800 with 1 Axes>"
            ],
            "image/png": "[encoded data removed]"
          },
          "metadata": {}
        }
      ]
    },
    {
      "cell_type": "markdown",
      "source": [
        "# Phase 2 :\n",
        "####Step 4: Text Parsing\n",
        "Parse the OCR output to extract relevant information, such as ingredient details, nutritional values, serving sizes, etc.\n",
        "####Step 5: Data Cleaning\n",
        "Clean the extracted data by removing any irrelevant or noisy information. Ensure consistency in data format.\n",
        "####Step 6: Natural Language Processing (NLTK)\n",
        "Implement NLTK to perform text analysis and processing tasks, such as tokenization, part-of-speech tagging, and named entity recognition.\n",
        "####Step 7: Ingredient Extraction\n",
        "Use NLTK to identify and extract ingredient details from the cleaned text. This may involve defining patterns or rules for recognizing ingredients. Store the results to a CSV File **\"input_ingredients.csv\"**\n"
      ],
      "metadata": {
        "id": "aaixWRKssoDf"
      }
    },
    {
      "cell_type": "markdown",
      "source": [
        "### Step 4: Text Parsing : PREPROCESSING DATA"
      ],
      "metadata": {
        "id": "6u4zP7DOpcAL"
      }
    },
    {
      "cell_type": "code",
      "source": [
        "# Split the multiline string into lines\n",
        "lines = multiline_string.strip().split('\\n')\n",
        "\n",
        "# Format the lines with \"Ingredient X:\" prefix\n",
        "formatted_lines = [f'Ingredient {i + 1}: {line}' for i, line in enumerate(lines)]\n",
        "\n",
        "# Join the formatted lines back into a multiline string\n",
        "formatted_multiline_string = '\\n'.join(formatted_lines)\n",
        "\n",
        "# Print the formatted multiline string\n",
        "print(formatted_multiline_string)"
      ],
      "metadata": {
        "id": "oqWfnUCEpaff"
      },
      "execution_count": null,
      "outputs": []
    },
    {
      "cell_type": "markdown",
      "source": [
        "# Step 5: Data Cleaning"
      ],
      "metadata": {
        "id": "z4htcyzYmDiu"
      }
    },
    {
      "cell_type": "markdown",
      "source": [
        "####A. Saving OCR Multiline Text to a Dictionary"
      ],
      "metadata": {
        "id": "r6gTlz_VtRnS"
      }
    },
    {
      "cell_type": "code",
      "source": [
        "import re\n",
        "\n",
        "# Split the multiline string into lines\n",
        "lines = multiline_text.strip().split('\\n')\n",
        "\n",
        "# Initialize an empty dictionary\n",
        "ingredient_dict = {}\n",
        "\n",
        "# Initialize a dictionary for the first words\n",
        "first_word_dict = {}\n",
        "\n",
        "# Loop through the lines and extract lines with numbers\n",
        "lineno = 0\n",
        "for i, line in enumerate(lines):\n",
        "    # Use a regular expression to check if there are any numbers in the line\n",
        "    if re.search(r'\\d', line):\n",
        "        # Extract the first word from the line\n",
        "        first_word = line.split()[0]\n",
        "        lineno += 1\n",
        "        key = f\"ingredient{lineno}\"  # Create a key based on line order\n",
        "        ingredient_dict[key] = line  # Store the line with numbers\n",
        "        first_word_dict[first_word] = ingredient_dict[key]  # Use the first word as the key in the first_word_dict\n",
        "\n",
        "# Print the resulting dictionary\n",
        "\n",
        "print(\"****************first_word_dict****************\")\n",
        "print(first_word_dict)\n",
        "print(\"****************first_word_dict****************\")"
      ],
      "metadata": {
        "id": "bqgi5ES4kHDa"
      },
      "execution_count": null,
      "outputs": []
    },
    {
      "cell_type": "markdown",
      "source": [
        "####Step 6: Natural Language Processing (NLTK)\n",
        "####Step 7: Ingredient Extraction\n",
        "Use NLTK to identify and extract ingredient details from the cleaned text. This may involve defining patterns or rules for recognizing ingredients. Store the results to a CSV File **\"input_ingredients.csv\"**"
      ],
      "metadata": {
        "id": "h7rrnPK8L6OH"
      }
    },
    {
      "cell_type": "markdown",
      "source": [
        "### **Write the pytesseract output to an 'Input Ingredients List' CSV File**"
      ],
      "metadata": {
        "id": "JaB4Kk6yJ9-w"
      }
    },
    {
      "cell_type": "code",
      "source": [
        "import csv\n",
        "\n",
        "# Input multiline string\n",
        "multiline_string = \"\"\"\n",
        "Ingredient 1: ALCOHOL\n",
        "Ingredient 2: PARFUM (FRAGRANCE)\n",
        "Ingredient 3: AQUA (WATER)\n",
        "Ingredient 4: CITRONELLOL\n",
        "Ingredient 5: LIMONENE\n",
        "Ingredient 6: BUTYL\n",
        "Ingredient 7: METHOXYDIBENZOYLMETHANE\n",
        "Ingredient 8: ETHYLHEXYL METHOXY-CINNAMATE\n",
        "Ingredient 9: ALPHA-ISOMETHYL IONONE LINALOOL\n",
        "Ingredient 10: HEXYL CINNAMAL\n",
        "Ingredient 11: BENZYL BENZOATE\n",
        "Ingredient 12: BHT\n",
        "Ingredient 13: HYDROXY-CITRONELLAL\n",
        "Ingredient 14: GERANIOL\n",
        "Ingredient 15: CINNAMYL ALCOHOL\n",
        "Ingredient 16: BENZYL SALICYLATE\n",
        "Ingredient 17: CITRAL\n",
        "Ingredient 18: FARNESOL\n",
        "\"\"\"\n",
        "\n",
        "# Split the multiline string into lines\n",
        "lines = multiline_string.strip().split('\\n')\n",
        "\n",
        "# Define the CSV file name\n",
        "csv_filename = '/content/brandvalue-repo/input_ingredients.csv'\n",
        "\n",
        "# Write the lines to the CSV file\n",
        "with open(csv_filename, mode='w', newline='') as csv_file:\n",
        "    csv_writer = csv.writer(csv_file)\n",
        "    csv_writer.writerow(['Ingredient ID', 'Ingredient Name'])  # Write the header\n",
        "    for line in lines:\n",
        "        ingredient_id, ingredient_name = line.split(': ', 1)\n",
        "        csv_writer.writerow([ingredient_id.strip(), ingredient_name.strip()])\n",
        "\n",
        "print(f'Data has been written to {csv_filename}')"
      ],
      "metadata": {
        "id": "pHGc1iE5KIUH"
      },
      "execution_count": null,
      "outputs": []
    },
    {
      "cell_type": "markdown",
      "source": [
        "---\n",
        "---"
      ],
      "metadata": {
        "id": "bjq_OB-bU7lS"
      }
    },
    {
      "cell_type": "markdown",
      "source": [
        "# Step 2 : **Compare Ingredients with CSV Table**\n",
        "Compare Ingredients with CSV Table<br>\n",
        "**Objective:** Match each ingredient from the OCR scan with a pre-defined cost table.<br>\n",
        "Tool: CSV file containing ingredient names and their respective costs.<br>\n",
        "Procedure: <br>\n",
        "o Load the CSV file into a pandas DataFrame. <br>\n",
        "o Create a list of ingredients from the OCR results. <br>\n",
        "o Iterate through the list and match each ingredient with the corresponding cost in the CSV table."
      ],
      "metadata": {
        "id": "hQ5nTkIuTAQ8"
      }
    },
    {
      "cell_type": "code",
      "source": [
        "import pandas as pd\n",
        "\n",
        "# Replace your file with the below csv for  the actual path to your CSV file\n",
        "file_path = '/content/brandvalue-repo/output_perfume_ingredients_rankwise.csv'\n",
        "\n",
        "# Read the CSV file into a pandas DataFrame\n",
        "df = pd.read_csv(file_path)\n",
        "\n",
        "# Display the first 25 rows of the DataFrame\n",
        "print(df.head(25))"
      ],
      "metadata": {
        "id": "nSo2VGDTTFsz"
      },
      "execution_count": null,
      "outputs": []
    },
    {
      "cell_type": "code",
      "source": [
        "df.info()"
      ],
      "metadata": {
        "id": "vke-QAv9TX45"
      },
      "execution_count": null,
      "outputs": []
    },
    {
      "cell_type": "code",
      "source": [
        "df.describe()"
      ],
      "metadata": {
        "id": "b7IzwkQOTc5R"
      },
      "execution_count": null,
      "outputs": []
    },
    {
      "cell_type": "code",
      "source": [
        "import pandas as pd\n",
        "# Convert multiline_text into a list of lines\n",
        "text_lines = [line.strip() for line in multiline_text.strip().split('\\n')]\n",
        "\n",
        "# Load DataFrame from csv\n",
        "df = pd.read_csv('/content/brandvalue-repo/output_perfume_ingredients_rankwise.csv')\n",
        "\n",
        "# Display all columns in df\n",
        "print(\"Columns in DataFrame:\")\n",
        "print(df.columns)\n",
        "\n",
        "# Convert the \"Ingredient Name\" column of the DataFrame to a set for fast membership checking\n",
        "df_column_set = set(df.iloc[:, 1])  # Assuming second column is \"Ingredient Name\"\n",
        "\n",
        "# List to store matches\n",
        "matches = []\n",
        "count =0\n",
        "\n",
        "# Check each item in text_lines if it exists in df_column_set\n",
        "for item in text_lines:\n",
        "    if item in df_column_set:\n",
        "        matches.append(item)\n",
        "\n",
        "# Print the list of matches\n",
        "print(\"\\n:::::::::::::::::::::::::::\")\n",
        "print(\"\\nMatches found in DataFrame:\")\n",
        "print(\"\\n:::::::::::::::::::::::::::\")\n",
        "for match in matches:\n",
        "    print(match)\n",
        "    count+=1\n",
        "\n",
        "print(\"\\n\\n\\n\\n:::::::::::::::::::::::::::\")\n",
        "print(\"\\n TOTAL MATCH :: \",count)\n",
        "print(\"\\n:::::::::::::::::::::::::::\")"
      ],
      "metadata": {
        "id": "QJOnCJKcU5ar"
      },
      "execution_count": null,
      "outputs": []
    },
    {
      "cell_type": "markdown",
      "source": [
        "---\n",
        "---\n",
        "---\n"
      ],
      "metadata": {
        "id": "7hPgffNrTmLf"
      }
    }
  ]
}